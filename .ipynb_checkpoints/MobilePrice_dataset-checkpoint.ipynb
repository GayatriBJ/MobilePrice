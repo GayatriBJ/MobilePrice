{
 "cells": [
  {
   "cell_type": "code",
   "execution_count": 2,
   "id": "bd780404",
   "metadata": {},
   "outputs": [],
   "source": [
    "import pandas as pd\n",
    "import numpy as np\n",
    "import pickle\n",
    "import json\n",
    "\n",
    "from statsmodels.stats.outliers_influence import variance_inflation_factor\n",
    "from sklearn.model_selection import train_test_split\n",
    "\n",
    "from sklearn.linear_model import LinearRegression\n",
    "from sklearn.metrics import mean_absolute_error, mean_squared_error, r2_score\n",
    "\n",
    "from scipy.stats import shapiro, kstest, normaltest,skew\n",
    "\n",
    "import matplotlib.pyplot as plt\n",
    "import seaborn as sns\n"
   ]
  },
  {
   "cell_type": "markdown",
   "id": "0e297a4c",
   "metadata": {},
   "source": [
    "### problem statement"
   ]
  },
  {
   "cell_type": "code",
   "execution_count": null,
   "id": "724f4874",
   "metadata": {},
   "outputs": [],
   "source": [
    "to predict mobile prices based on the features\n",
    "Features:\n",
    "    "
   ]
  },
  {
   "cell_type": "markdown",
   "id": "d6b7ab3a",
   "metadata": {},
   "source": [
    "### Data Gathering"
   ]
  },
  {
   "cell_type": "code",
   "execution_count": 3,
   "id": "539bc2cf",
   "metadata": {},
   "outputs": [
    {
     "data": {
      "text/html": [
       "<div>\n",
       "<style scoped>\n",
       "    .dataframe tbody tr th:only-of-type {\n",
       "        vertical-align: middle;\n",
       "    }\n",
       "\n",
       "    .dataframe tbody tr th {\n",
       "        vertical-align: top;\n",
       "    }\n",
       "\n",
       "    .dataframe thead th {\n",
       "        text-align: right;\n",
       "    }\n",
       "</style>\n",
       "<table border=\"1\" class=\"dataframe\">\n",
       "  <thead>\n",
       "    <tr style=\"text-align: right;\">\n",
       "      <th></th>\n",
       "      <th>Name</th>\n",
       "      <th>Link</th>\n",
       "      <th>Make</th>\n",
       "      <th>System</th>\n",
       "      <th>Memory</th>\n",
       "      <th>RAM</th>\n",
       "      <th>Display</th>\n",
       "      <th>Display_Quality</th>\n",
       "      <th>Camera</th>\n",
       "      <th>Battery</th>\n",
       "      <th>Sim</th>\n",
       "      <th>Screen Refresh Rate</th>\n",
       "      <th>Price</th>\n",
       "    </tr>\n",
       "  </thead>\n",
       "  <tbody>\n",
       "    <tr>\n",
       "      <th>0</th>\n",
       "      <td>realme Realme C21 64GB Mavi Cep Telefonu (Real...</td>\n",
       "      <td>https://www.trendyol.com/realme/realme-c21-64g...</td>\n",
       "      <td>realme</td>\n",
       "      <td>Android</td>\n",
       "      <td>64 GB</td>\n",
       "      <td>3 GB</td>\n",
       "      <td>LCD</td>\n",
       "      <td>HD+</td>\n",
       "      <td>10 - 15 MP</td>\n",
       "      <td>4500-5000 mAh</td>\n",
       "      <td>4G</td>\n",
       "      <td>60 Hz</td>\n",
       "      <td>2388.0</td>\n",
       "    </tr>\n",
       "    <tr>\n",
       "      <th>1</th>\n",
       "      <td>Apple iPhone 11 64GB Beyaz Cep Telefonu (Apple...</td>\n",
       "      <td>https://www.trendyol.com/apple/iphone-11-64gb-...</td>\n",
       "      <td>Apple</td>\n",
       "      <td>iOS</td>\n",
       "      <td>64 GB</td>\n",
       "      <td>4 GB</td>\n",
       "      <td>LCD</td>\n",
       "      <td>HD+</td>\n",
       "      <td>10 - 15 MP</td>\n",
       "      <td>3000-3500 mAh</td>\n",
       "      <td>4.5G</td>\n",
       "      <td>60 Hz</td>\n",
       "      <td>9799.0</td>\n",
       "    </tr>\n",
       "    <tr>\n",
       "      <th>2</th>\n",
       "      <td>POCO X3 Pro 8GB + 256GB Siyah Cep Telefonu Xia...</td>\n",
       "      <td>https://www.trendyol.com/poco/x3-pro-8gb-256gb...</td>\n",
       "      <td>POCO</td>\n",
       "      <td>Android</td>\n",
       "      <td>256 GB</td>\n",
       "      <td>8 GB</td>\n",
       "      <td>LCD</td>\n",
       "      <td>FHD+</td>\n",
       "      <td>20 MP ve üstü</td>\n",
       "      <td>5000-6000 mAh</td>\n",
       "      <td>4.5G</td>\n",
       "      <td>120 Hz</td>\n",
       "      <td>5619.0</td>\n",
       "    </tr>\n",
       "    <tr>\n",
       "      <th>3</th>\n",
       "      <td>Apple iPhone 11 64GB Siyah Cep Telefonu (Apple...</td>\n",
       "      <td>https://www.trendyol.com/apple/iphone-11-64gb-...</td>\n",
       "      <td>Apple</td>\n",
       "      <td>iOS</td>\n",
       "      <td>64 GB</td>\n",
       "      <td>4 GB</td>\n",
       "      <td>LCD</td>\n",
       "      <td>HD+</td>\n",
       "      <td>10 - 15 MP</td>\n",
       "      <td>3000-3500 mAh</td>\n",
       "      <td>4.5G</td>\n",
       "      <td>60 Hz</td>\n",
       "      <td>9789.0</td>\n",
       "    </tr>\n",
       "    <tr>\n",
       "      <th>4</th>\n",
       "      <td>Samsung Galaxy Note20 Ultra 256GB Mystic Bronz...</td>\n",
       "      <td>https://www.trendyol.com/samsung/galaxy-note20...</td>\n",
       "      <td>Samsung</td>\n",
       "      <td>Android</td>\n",
       "      <td>256 GB</td>\n",
       "      <td>8 GB</td>\n",
       "      <td>AMOLED</td>\n",
       "      <td>FHD+</td>\n",
       "      <td>20 MP ve üstü</td>\n",
       "      <td>4500-5000 mAh</td>\n",
       "      <td>4.5G</td>\n",
       "      <td>120 Hz</td>\n",
       "      <td>12199.0</td>\n",
       "    </tr>\n",
       "    <tr>\n",
       "      <th>...</th>\n",
       "      <td>...</td>\n",
       "      <td>...</td>\n",
       "      <td>...</td>\n",
       "      <td>...</td>\n",
       "      <td>...</td>\n",
       "      <td>...</td>\n",
       "      <td>...</td>\n",
       "      <td>...</td>\n",
       "      <td>...</td>\n",
       "      <td>...</td>\n",
       "      <td>...</td>\n",
       "      <td>...</td>\n",
       "      <td>...</td>\n",
       "    </tr>\n",
       "    <tr>\n",
       "      <th>934</th>\n",
       "      <td>Tecno Pova Tecno Spark6go-64-mblue 13mp Spark6...</td>\n",
       "      <td>https://www.trendyol.com/tecno-pova/tecno-spar...</td>\n",
       "      <td>Tecno</td>\n",
       "      <td>Android</td>\n",
       "      <td>64 GB</td>\n",
       "      <td>4 GB</td>\n",
       "      <td>LCD</td>\n",
       "      <td>NaN</td>\n",
       "      <td>NaN</td>\n",
       "      <td>2000-3000 mAh</td>\n",
       "      <td>4.5G</td>\n",
       "      <td>60 Hz</td>\n",
       "      <td>3299.0</td>\n",
       "    </tr>\n",
       "    <tr>\n",
       "      <th>935</th>\n",
       "      <td>Xiaomi Redmi Note 9 128 Gb Cep Telefonu 123456...</td>\n",
       "      <td>https://www.trendyol.com/xiaomi/redmi-note-9-1...</td>\n",
       "      <td>Xiaomi</td>\n",
       "      <td>Android</td>\n",
       "      <td>128 GB</td>\n",
       "      <td>4 GB</td>\n",
       "      <td>NaN</td>\n",
       "      <td>FHD+</td>\n",
       "      <td>20 MP ve üstü</td>\n",
       "      <td>3500-4000 mAh</td>\n",
       "      <td>3G</td>\n",
       "      <td>NaN</td>\n",
       "      <td>2299.0</td>\n",
       "    </tr>\n",
       "    <tr>\n",
       "      <th>936</th>\n",
       "      <td>Reeder P13 Blue Max 2021 128 Gb 4 Gb Ram Türki...</td>\n",
       "      <td>https://www.trendyol.com/reeder/p13-blue-max-2...</td>\n",
       "      <td>Reeder</td>\n",
       "      <td>Android</td>\n",
       "      <td>128 GB</td>\n",
       "      <td>4 GB</td>\n",
       "      <td>LCD</td>\n",
       "      <td>NaN</td>\n",
       "      <td>10 - 15 MP</td>\n",
       "      <td>4500-5000 mAh</td>\n",
       "      <td>4.5G</td>\n",
       "      <td>60 Hz</td>\n",
       "      <td>3570.0</td>\n",
       "    </tr>\n",
       "    <tr>\n",
       "      <th>937</th>\n",
       "      <td>Apple iPhone 13 Mini 512GB Mavi Cep Telefonu (...</td>\n",
       "      <td>https://www.trendyol.com/apple/iphone-13-mini-...</td>\n",
       "      <td>Apple</td>\n",
       "      <td>iOS</td>\n",
       "      <td>512 GB</td>\n",
       "      <td>4 GB</td>\n",
       "      <td>NaN</td>\n",
       "      <td>NaN</td>\n",
       "      <td>NaN</td>\n",
       "      <td>2000-3000 mAh</td>\n",
       "      <td>4.5G</td>\n",
       "      <td>NaN</td>\n",
       "      <td>2949.0</td>\n",
       "    </tr>\n",
       "    <tr>\n",
       "      <th>938</th>\n",
       "      <td>Oppo A 16 32 Gb Siyah Cep Telefonu 8683040000272</td>\n",
       "      <td>https://www.trendyol.com/oppo/a-16-32-gb-siyah...</td>\n",
       "      <td>Oppo</td>\n",
       "      <td>Android</td>\n",
       "      <td>32 GB</td>\n",
       "      <td>4 GB</td>\n",
       "      <td>NaN</td>\n",
       "      <td>NaN</td>\n",
       "      <td>NaN</td>\n",
       "      <td>5000-6000 mAh</td>\n",
       "      <td>5G</td>\n",
       "      <td>NaN</td>\n",
       "      <td>17660.0</td>\n",
       "    </tr>\n",
       "  </tbody>\n",
       "</table>\n",
       "<p>939 rows × 13 columns</p>\n",
       "</div>"
      ],
      "text/plain": [
       "                                                  Name   \n",
       "0    realme Realme C21 64GB Mavi Cep Telefonu (Real...  \\\n",
       "1    Apple iPhone 11 64GB Beyaz Cep Telefonu (Apple...   \n",
       "2    POCO X3 Pro 8GB + 256GB Siyah Cep Telefonu Xia...   \n",
       "3    Apple iPhone 11 64GB Siyah Cep Telefonu (Apple...   \n",
       "4    Samsung Galaxy Note20 Ultra 256GB Mystic Bronz...   \n",
       "..                                                 ...   \n",
       "934  Tecno Pova Tecno Spark6go-64-mblue 13mp Spark6...   \n",
       "935  Xiaomi Redmi Note 9 128 Gb Cep Telefonu 123456...   \n",
       "936  Reeder P13 Blue Max 2021 128 Gb 4 Gb Ram Türki...   \n",
       "937  Apple iPhone 13 Mini 512GB Mavi Cep Telefonu (...   \n",
       "938  Oppo A 16 32 Gb Siyah Cep Telefonu 8683040000272    \n",
       "\n",
       "                                                  Link     Make   System   \n",
       "0    https://www.trendyol.com/realme/realme-c21-64g...   realme  Android  \\\n",
       "1    https://www.trendyol.com/apple/iphone-11-64gb-...    Apple      iOS   \n",
       "2    https://www.trendyol.com/poco/x3-pro-8gb-256gb...     POCO  Android   \n",
       "3    https://www.trendyol.com/apple/iphone-11-64gb-...    Apple      iOS   \n",
       "4    https://www.trendyol.com/samsung/galaxy-note20...  Samsung  Android   \n",
       "..                                                 ...      ...      ...   \n",
       "934  https://www.trendyol.com/tecno-pova/tecno-spar...    Tecno  Android   \n",
       "935  https://www.trendyol.com/xiaomi/redmi-note-9-1...   Xiaomi  Android   \n",
       "936  https://www.trendyol.com/reeder/p13-blue-max-2...   Reeder  Android   \n",
       "937  https://www.trendyol.com/apple/iphone-13-mini-...    Apple      iOS   \n",
       "938  https://www.trendyol.com/oppo/a-16-32-gb-siyah...     Oppo  Android   \n",
       "\n",
       "     Memory   RAM Display Display_Quality         Camera        Battery   Sim   \n",
       "0     64 GB  3 GB     LCD             HD+     10 - 15 MP  4500-5000 mAh    4G  \\\n",
       "1     64 GB  4 GB     LCD             HD+     10 - 15 MP  3000-3500 mAh  4.5G   \n",
       "2    256 GB  8 GB     LCD            FHD+  20 MP ve üstü  5000-6000 mAh  4.5G   \n",
       "3     64 GB  4 GB     LCD             HD+     10 - 15 MP  3000-3500 mAh  4.5G   \n",
       "4    256 GB  8 GB  AMOLED            FHD+  20 MP ve üstü  4500-5000 mAh  4.5G   \n",
       "..      ...   ...     ...             ...            ...            ...   ...   \n",
       "934   64 GB  4 GB     LCD             NaN            NaN  2000-3000 mAh  4.5G   \n",
       "935  128 GB  4 GB     NaN            FHD+  20 MP ve üstü  3500-4000 mAh    3G   \n",
       "936  128 GB  4 GB     LCD             NaN     10 - 15 MP  4500-5000 mAh  4.5G   \n",
       "937  512 GB  4 GB     NaN             NaN            NaN  2000-3000 mAh  4.5G   \n",
       "938   32 GB  4 GB     NaN             NaN            NaN  5000-6000 mAh    5G   \n",
       "\n",
       "    Screen Refresh Rate    Price  \n",
       "0                 60 Hz   2388.0  \n",
       "1                 60 Hz   9799.0  \n",
       "2                120 Hz   5619.0  \n",
       "3                 60 Hz   9789.0  \n",
       "4                120 Hz  12199.0  \n",
       "..                  ...      ...  \n",
       "934               60 Hz   3299.0  \n",
       "935                 NaN   2299.0  \n",
       "936               60 Hz   3570.0  \n",
       "937                 NaN   2949.0  \n",
       "938                 NaN  17660.0  \n",
       "\n",
       "[939 rows x 13 columns]"
      ]
     },
     "execution_count": 3,
     "metadata": {},
     "output_type": "execute_result"
    }
   ],
   "source": [
    "df = pd.read_csv(\"mobile_price.csv\")\n",
    "df"
   ]
  },
  {
   "cell_type": "code",
   "execution_count": 3,
   "id": "234934ce",
   "metadata": {},
   "outputs": [
    {
     "name": "stdout",
     "output_type": "stream",
     "text": [
      "<class 'pandas.core.frame.DataFrame'>\n",
      "RangeIndex: 939 entries, 0 to 938\n",
      "Data columns (total 13 columns):\n",
      " #   Column               Non-Null Count  Dtype  \n",
      "---  ------               --------------  -----  \n",
      " 0   Name                 939 non-null    object \n",
      " 1   Link                 938 non-null    object \n",
      " 2   Make                 938 non-null    object \n",
      " 3   System               938 non-null    object \n",
      " 4   Memory               938 non-null    object \n",
      " 5   RAM                  938 non-null    object \n",
      " 6   Display              568 non-null    object \n",
      " 7   Display_Quality      603 non-null    object \n",
      " 8   Camera               617 non-null    object \n",
      " 9   Battery              938 non-null    object \n",
      " 10  Sim                  934 non-null    object \n",
      " 11  Screen Refresh Rate  610 non-null    object \n",
      " 12  Price                937 non-null    float64\n",
      "dtypes: float64(1), object(12)\n",
      "memory usage: 95.5+ KB\n"
     ]
    }
   ],
   "source": [
    "df.info()"
   ]
  },
  {
   "cell_type": "code",
   "execution_count": 4,
   "id": "28627cb4",
   "metadata": {},
   "outputs": [
    {
     "data": {
      "text/html": [
       "<div>\n",
       "<style scoped>\n",
       "    .dataframe tbody tr th:only-of-type {\n",
       "        vertical-align: middle;\n",
       "    }\n",
       "\n",
       "    .dataframe tbody tr th {\n",
       "        vertical-align: top;\n",
       "    }\n",
       "\n",
       "    .dataframe thead th {\n",
       "        text-align: right;\n",
       "    }\n",
       "</style>\n",
       "<table border=\"1\" class=\"dataframe\">\n",
       "  <thead>\n",
       "    <tr style=\"text-align: right;\">\n",
       "      <th></th>\n",
       "      <th>Make</th>\n",
       "      <th>System</th>\n",
       "      <th>Memory</th>\n",
       "      <th>RAM</th>\n",
       "      <th>Display</th>\n",
       "      <th>Display_Quality</th>\n",
       "      <th>Camera</th>\n",
       "      <th>Battery</th>\n",
       "      <th>Sim</th>\n",
       "      <th>Screen Refresh Rate</th>\n",
       "      <th>Price</th>\n",
       "    </tr>\n",
       "  </thead>\n",
       "  <tbody>\n",
       "    <tr>\n",
       "      <th>0</th>\n",
       "      <td>realme</td>\n",
       "      <td>Android</td>\n",
       "      <td>64 GB</td>\n",
       "      <td>3 GB</td>\n",
       "      <td>LCD</td>\n",
       "      <td>HD+</td>\n",
       "      <td>10 - 15 MP</td>\n",
       "      <td>4500-5000 mAh</td>\n",
       "      <td>4G</td>\n",
       "      <td>60 Hz</td>\n",
       "      <td>2388.0</td>\n",
       "    </tr>\n",
       "    <tr>\n",
       "      <th>1</th>\n",
       "      <td>Apple</td>\n",
       "      <td>iOS</td>\n",
       "      <td>64 GB</td>\n",
       "      <td>4 GB</td>\n",
       "      <td>LCD</td>\n",
       "      <td>HD+</td>\n",
       "      <td>10 - 15 MP</td>\n",
       "      <td>3000-3500 mAh</td>\n",
       "      <td>4.5G</td>\n",
       "      <td>60 Hz</td>\n",
       "      <td>9799.0</td>\n",
       "    </tr>\n",
       "    <tr>\n",
       "      <th>2</th>\n",
       "      <td>POCO</td>\n",
       "      <td>Android</td>\n",
       "      <td>256 GB</td>\n",
       "      <td>8 GB</td>\n",
       "      <td>LCD</td>\n",
       "      <td>FHD+</td>\n",
       "      <td>20 MP ve üstü</td>\n",
       "      <td>5000-6000 mAh</td>\n",
       "      <td>4.5G</td>\n",
       "      <td>120 Hz</td>\n",
       "      <td>5619.0</td>\n",
       "    </tr>\n",
       "    <tr>\n",
       "      <th>3</th>\n",
       "      <td>Apple</td>\n",
       "      <td>iOS</td>\n",
       "      <td>64 GB</td>\n",
       "      <td>4 GB</td>\n",
       "      <td>LCD</td>\n",
       "      <td>HD+</td>\n",
       "      <td>10 - 15 MP</td>\n",
       "      <td>3000-3500 mAh</td>\n",
       "      <td>4.5G</td>\n",
       "      <td>60 Hz</td>\n",
       "      <td>9789.0</td>\n",
       "    </tr>\n",
       "    <tr>\n",
       "      <th>4</th>\n",
       "      <td>Samsung</td>\n",
       "      <td>Android</td>\n",
       "      <td>256 GB</td>\n",
       "      <td>8 GB</td>\n",
       "      <td>AMOLED</td>\n",
       "      <td>FHD+</td>\n",
       "      <td>20 MP ve üstü</td>\n",
       "      <td>4500-5000 mAh</td>\n",
       "      <td>4.5G</td>\n",
       "      <td>120 Hz</td>\n",
       "      <td>12199.0</td>\n",
       "    </tr>\n",
       "    <tr>\n",
       "      <th>...</th>\n",
       "      <td>...</td>\n",
       "      <td>...</td>\n",
       "      <td>...</td>\n",
       "      <td>...</td>\n",
       "      <td>...</td>\n",
       "      <td>...</td>\n",
       "      <td>...</td>\n",
       "      <td>...</td>\n",
       "      <td>...</td>\n",
       "      <td>...</td>\n",
       "      <td>...</td>\n",
       "    </tr>\n",
       "    <tr>\n",
       "      <th>934</th>\n",
       "      <td>Tecno</td>\n",
       "      <td>Android</td>\n",
       "      <td>64 GB</td>\n",
       "      <td>4 GB</td>\n",
       "      <td>LCD</td>\n",
       "      <td>NaN</td>\n",
       "      <td>NaN</td>\n",
       "      <td>2000-3000 mAh</td>\n",
       "      <td>4.5G</td>\n",
       "      <td>60 Hz</td>\n",
       "      <td>3299.0</td>\n",
       "    </tr>\n",
       "    <tr>\n",
       "      <th>935</th>\n",
       "      <td>Xiaomi</td>\n",
       "      <td>Android</td>\n",
       "      <td>128 GB</td>\n",
       "      <td>4 GB</td>\n",
       "      <td>NaN</td>\n",
       "      <td>FHD+</td>\n",
       "      <td>20 MP ve üstü</td>\n",
       "      <td>3500-4000 mAh</td>\n",
       "      <td>3G</td>\n",
       "      <td>NaN</td>\n",
       "      <td>2299.0</td>\n",
       "    </tr>\n",
       "    <tr>\n",
       "      <th>936</th>\n",
       "      <td>Reeder</td>\n",
       "      <td>Android</td>\n",
       "      <td>128 GB</td>\n",
       "      <td>4 GB</td>\n",
       "      <td>LCD</td>\n",
       "      <td>NaN</td>\n",
       "      <td>10 - 15 MP</td>\n",
       "      <td>4500-5000 mAh</td>\n",
       "      <td>4.5G</td>\n",
       "      <td>60 Hz</td>\n",
       "      <td>3570.0</td>\n",
       "    </tr>\n",
       "    <tr>\n",
       "      <th>937</th>\n",
       "      <td>Apple</td>\n",
       "      <td>iOS</td>\n",
       "      <td>512 GB</td>\n",
       "      <td>4 GB</td>\n",
       "      <td>NaN</td>\n",
       "      <td>NaN</td>\n",
       "      <td>NaN</td>\n",
       "      <td>2000-3000 mAh</td>\n",
       "      <td>4.5G</td>\n",
       "      <td>NaN</td>\n",
       "      <td>2949.0</td>\n",
       "    </tr>\n",
       "    <tr>\n",
       "      <th>938</th>\n",
       "      <td>Oppo</td>\n",
       "      <td>Android</td>\n",
       "      <td>32 GB</td>\n",
       "      <td>4 GB</td>\n",
       "      <td>NaN</td>\n",
       "      <td>NaN</td>\n",
       "      <td>NaN</td>\n",
       "      <td>5000-6000 mAh</td>\n",
       "      <td>5G</td>\n",
       "      <td>NaN</td>\n",
       "      <td>17660.0</td>\n",
       "    </tr>\n",
       "  </tbody>\n",
       "</table>\n",
       "<p>939 rows × 11 columns</p>\n",
       "</div>"
      ],
      "text/plain": [
       "        Make   System  Memory   RAM Display Display_Quality         Camera   \n",
       "0     realme  Android   64 GB  3 GB     LCD             HD+     10 - 15 MP  \\\n",
       "1      Apple      iOS   64 GB  4 GB     LCD             HD+     10 - 15 MP   \n",
       "2       POCO  Android  256 GB  8 GB     LCD            FHD+  20 MP ve üstü   \n",
       "3      Apple      iOS   64 GB  4 GB     LCD             HD+     10 - 15 MP   \n",
       "4    Samsung  Android  256 GB  8 GB  AMOLED            FHD+  20 MP ve üstü   \n",
       "..       ...      ...     ...   ...     ...             ...            ...   \n",
       "934    Tecno  Android   64 GB  4 GB     LCD             NaN            NaN   \n",
       "935   Xiaomi  Android  128 GB  4 GB     NaN            FHD+  20 MP ve üstü   \n",
       "936   Reeder  Android  128 GB  4 GB     LCD             NaN     10 - 15 MP   \n",
       "937    Apple      iOS  512 GB  4 GB     NaN             NaN            NaN   \n",
       "938     Oppo  Android   32 GB  4 GB     NaN             NaN            NaN   \n",
       "\n",
       "           Battery   Sim Screen Refresh Rate    Price  \n",
       "0    4500-5000 mAh    4G               60 Hz   2388.0  \n",
       "1    3000-3500 mAh  4.5G               60 Hz   9799.0  \n",
       "2    5000-6000 mAh  4.5G              120 Hz   5619.0  \n",
       "3    3000-3500 mAh  4.5G               60 Hz   9789.0  \n",
       "4    4500-5000 mAh  4.5G              120 Hz  12199.0  \n",
       "..             ...   ...                 ...      ...  \n",
       "934  2000-3000 mAh  4.5G               60 Hz   3299.0  \n",
       "935  3500-4000 mAh    3G                 NaN   2299.0  \n",
       "936  4500-5000 mAh  4.5G               60 Hz   3570.0  \n",
       "937  2000-3000 mAh  4.5G                 NaN   2949.0  \n",
       "938  5000-6000 mAh    5G                 NaN  17660.0  \n",
       "\n",
       "[939 rows x 11 columns]"
      ]
     },
     "execution_count": 4,
     "metadata": {},
     "output_type": "execute_result"
    }
   ],
   "source": [
    "df = df.drop(['Name', 'Link'], axis = 1)\n",
    "df"
   ]
  },
  {
   "cell_type": "code",
   "execution_count": null,
   "id": "034eafd6",
   "metadata": {},
   "outputs": [],
   "source": []
  },
  {
   "cell_type": "markdown",
   "id": "92d08a36",
   "metadata": {},
   "source": [
    "### EDA"
   ]
  },
  {
   "cell_type": "markdown",
   "id": "e05c4685",
   "metadata": {},
   "source": [
    "#### 1.Make"
   ]
  },
  {
   "cell_type": "code",
   "execution_count": 7,
   "id": "576f94e9",
   "metadata": {},
   "outputs": [
    {
     "data": {
      "text/plain": [
       "Make\n",
       "Samsung           213\n",
       "Apple             160\n",
       "Xiaomi            146\n",
       "General Mobile     55\n",
       "Oppo               45\n",
       "Reeder             44\n",
       "Huawei             36\n",
       "realme             35\n",
       "Tecno              30\n",
       "Infinix            21\n",
       "POCO               19\n",
       "Hiking             17\n",
       "Casper             16\n",
       "TCL                14\n",
       "LG                 13\n",
       "Vivo               11\n",
       "VESTEL              8\n",
       "Elephone            8\n",
       "Alcatel             8\n",
       "Omix                7\n",
       "Ulefone             6\n",
       "Honor               5\n",
       "Oneplus             4\n",
       "Trident             4\n",
       "Meizu               3\n",
       "Doogee              2\n",
       "Htc                 1\n",
       "Motorola            1\n",
       "Smart               1\n",
       "Nokia               1\n",
       "Oukitel             1\n",
       "LENOVO              1\n",
       "Cat                 1\n",
       "Sunny               1\n",
       "Name: count, dtype: int64"
      ]
     },
     "execution_count": 7,
     "metadata": {},
     "output_type": "execute_result"
    }
   ],
   "source": [
    "df['Make'].value_counts()"
   ]
  },
  {
   "cell_type": "code",
   "execution_count": 8,
   "id": "d2a9bcbc",
   "metadata": {},
   "outputs": [
    {
     "data": {
      "text/plain": [
       "1"
      ]
     },
     "execution_count": 8,
     "metadata": {},
     "output_type": "execute_result"
    }
   ],
   "source": [
    "df['Make'].isna().sum()"
   ]
  },
  {
   "cell_type": "code",
   "execution_count": 9,
   "id": "f122a6a1",
   "metadata": {},
   "outputs": [
    {
     "data": {
      "text/plain": [
       "'Samsung'"
      ]
     },
     "execution_count": 9,
     "metadata": {},
     "output_type": "execute_result"
    }
   ],
   "source": [
    "df['Make'].mode()[0]"
   ]
  },
  {
   "cell_type": "code",
   "execution_count": 5,
   "id": "33fd027e",
   "metadata": {},
   "outputs": [],
   "source": [
    "df['Make'].fillna(df['Make'].mode()[0], inplace=True)"
   ]
  },
  {
   "cell_type": "code",
   "execution_count": 6,
   "id": "9ed3eb67",
   "metadata": {},
   "outputs": [],
   "source": [
    "df = pd.get_dummies(df,columns= ['Make'], dtype=int)"
   ]
  },
  {
   "cell_type": "code",
   "execution_count": 7,
   "id": "57f62b11",
   "metadata": {},
   "outputs": [
    {
     "data": {
      "text/html": [
       "<div>\n",
       "<style scoped>\n",
       "    .dataframe tbody tr th:only-of-type {\n",
       "        vertical-align: middle;\n",
       "    }\n",
       "\n",
       "    .dataframe tbody tr th {\n",
       "        vertical-align: top;\n",
       "    }\n",
       "\n",
       "    .dataframe thead th {\n",
       "        text-align: right;\n",
       "    }\n",
       "</style>\n",
       "<table border=\"1\" class=\"dataframe\">\n",
       "  <thead>\n",
       "    <tr style=\"text-align: right;\">\n",
       "      <th></th>\n",
       "      <th>System</th>\n",
       "      <th>Memory</th>\n",
       "      <th>RAM</th>\n",
       "      <th>Display</th>\n",
       "      <th>Display_Quality</th>\n",
       "      <th>Camera</th>\n",
       "      <th>Battery</th>\n",
       "      <th>Sim</th>\n",
       "      <th>Screen Refresh Rate</th>\n",
       "      <th>Price</th>\n",
       "      <th>...</th>\n",
       "      <th>Make_Smart</th>\n",
       "      <th>Make_Sunny</th>\n",
       "      <th>Make_TCL</th>\n",
       "      <th>Make_Tecno</th>\n",
       "      <th>Make_Trident</th>\n",
       "      <th>Make_Ulefone</th>\n",
       "      <th>Make_VESTEL</th>\n",
       "      <th>Make_Vivo</th>\n",
       "      <th>Make_Xiaomi</th>\n",
       "      <th>Make_realme</th>\n",
       "    </tr>\n",
       "  </thead>\n",
       "  <tbody>\n",
       "    <tr>\n",
       "      <th>0</th>\n",
       "      <td>Android</td>\n",
       "      <td>64 GB</td>\n",
       "      <td>3 GB</td>\n",
       "      <td>LCD</td>\n",
       "      <td>HD+</td>\n",
       "      <td>10 - 15 MP</td>\n",
       "      <td>4500-5000 mAh</td>\n",
       "      <td>4G</td>\n",
       "      <td>60 Hz</td>\n",
       "      <td>2388.0</td>\n",
       "      <td>...</td>\n",
       "      <td>0</td>\n",
       "      <td>0</td>\n",
       "      <td>0</td>\n",
       "      <td>0</td>\n",
       "      <td>0</td>\n",
       "      <td>0</td>\n",
       "      <td>0</td>\n",
       "      <td>0</td>\n",
       "      <td>0</td>\n",
       "      <td>1</td>\n",
       "    </tr>\n",
       "    <tr>\n",
       "      <th>1</th>\n",
       "      <td>iOS</td>\n",
       "      <td>64 GB</td>\n",
       "      <td>4 GB</td>\n",
       "      <td>LCD</td>\n",
       "      <td>HD+</td>\n",
       "      <td>10 - 15 MP</td>\n",
       "      <td>3000-3500 mAh</td>\n",
       "      <td>4.5G</td>\n",
       "      <td>60 Hz</td>\n",
       "      <td>9799.0</td>\n",
       "      <td>...</td>\n",
       "      <td>0</td>\n",
       "      <td>0</td>\n",
       "      <td>0</td>\n",
       "      <td>0</td>\n",
       "      <td>0</td>\n",
       "      <td>0</td>\n",
       "      <td>0</td>\n",
       "      <td>0</td>\n",
       "      <td>0</td>\n",
       "      <td>0</td>\n",
       "    </tr>\n",
       "    <tr>\n",
       "      <th>2</th>\n",
       "      <td>Android</td>\n",
       "      <td>256 GB</td>\n",
       "      <td>8 GB</td>\n",
       "      <td>LCD</td>\n",
       "      <td>FHD+</td>\n",
       "      <td>20 MP ve üstü</td>\n",
       "      <td>5000-6000 mAh</td>\n",
       "      <td>4.5G</td>\n",
       "      <td>120 Hz</td>\n",
       "      <td>5619.0</td>\n",
       "      <td>...</td>\n",
       "      <td>0</td>\n",
       "      <td>0</td>\n",
       "      <td>0</td>\n",
       "      <td>0</td>\n",
       "      <td>0</td>\n",
       "      <td>0</td>\n",
       "      <td>0</td>\n",
       "      <td>0</td>\n",
       "      <td>0</td>\n",
       "      <td>0</td>\n",
       "    </tr>\n",
       "    <tr>\n",
       "      <th>3</th>\n",
       "      <td>iOS</td>\n",
       "      <td>64 GB</td>\n",
       "      <td>4 GB</td>\n",
       "      <td>LCD</td>\n",
       "      <td>HD+</td>\n",
       "      <td>10 - 15 MP</td>\n",
       "      <td>3000-3500 mAh</td>\n",
       "      <td>4.5G</td>\n",
       "      <td>60 Hz</td>\n",
       "      <td>9789.0</td>\n",
       "      <td>...</td>\n",
       "      <td>0</td>\n",
       "      <td>0</td>\n",
       "      <td>0</td>\n",
       "      <td>0</td>\n",
       "      <td>0</td>\n",
       "      <td>0</td>\n",
       "      <td>0</td>\n",
       "      <td>0</td>\n",
       "      <td>0</td>\n",
       "      <td>0</td>\n",
       "    </tr>\n",
       "    <tr>\n",
       "      <th>4</th>\n",
       "      <td>Android</td>\n",
       "      <td>256 GB</td>\n",
       "      <td>8 GB</td>\n",
       "      <td>AMOLED</td>\n",
       "      <td>FHD+</td>\n",
       "      <td>20 MP ve üstü</td>\n",
       "      <td>4500-5000 mAh</td>\n",
       "      <td>4.5G</td>\n",
       "      <td>120 Hz</td>\n",
       "      <td>12199.0</td>\n",
       "      <td>...</td>\n",
       "      <td>0</td>\n",
       "      <td>0</td>\n",
       "      <td>0</td>\n",
       "      <td>0</td>\n",
       "      <td>0</td>\n",
       "      <td>0</td>\n",
       "      <td>0</td>\n",
       "      <td>0</td>\n",
       "      <td>0</td>\n",
       "      <td>0</td>\n",
       "    </tr>\n",
       "    <tr>\n",
       "      <th>...</th>\n",
       "      <td>...</td>\n",
       "      <td>...</td>\n",
       "      <td>...</td>\n",
       "      <td>...</td>\n",
       "      <td>...</td>\n",
       "      <td>...</td>\n",
       "      <td>...</td>\n",
       "      <td>...</td>\n",
       "      <td>...</td>\n",
       "      <td>...</td>\n",
       "      <td>...</td>\n",
       "      <td>...</td>\n",
       "      <td>...</td>\n",
       "      <td>...</td>\n",
       "      <td>...</td>\n",
       "      <td>...</td>\n",
       "      <td>...</td>\n",
       "      <td>...</td>\n",
       "      <td>...</td>\n",
       "      <td>...</td>\n",
       "      <td>...</td>\n",
       "    </tr>\n",
       "    <tr>\n",
       "      <th>934</th>\n",
       "      <td>Android</td>\n",
       "      <td>64 GB</td>\n",
       "      <td>4 GB</td>\n",
       "      <td>LCD</td>\n",
       "      <td>NaN</td>\n",
       "      <td>NaN</td>\n",
       "      <td>2000-3000 mAh</td>\n",
       "      <td>4.5G</td>\n",
       "      <td>60 Hz</td>\n",
       "      <td>3299.0</td>\n",
       "      <td>...</td>\n",
       "      <td>0</td>\n",
       "      <td>0</td>\n",
       "      <td>0</td>\n",
       "      <td>1</td>\n",
       "      <td>0</td>\n",
       "      <td>0</td>\n",
       "      <td>0</td>\n",
       "      <td>0</td>\n",
       "      <td>0</td>\n",
       "      <td>0</td>\n",
       "    </tr>\n",
       "    <tr>\n",
       "      <th>935</th>\n",
       "      <td>Android</td>\n",
       "      <td>128 GB</td>\n",
       "      <td>4 GB</td>\n",
       "      <td>NaN</td>\n",
       "      <td>FHD+</td>\n",
       "      <td>20 MP ve üstü</td>\n",
       "      <td>3500-4000 mAh</td>\n",
       "      <td>3G</td>\n",
       "      <td>NaN</td>\n",
       "      <td>2299.0</td>\n",
       "      <td>...</td>\n",
       "      <td>0</td>\n",
       "      <td>0</td>\n",
       "      <td>0</td>\n",
       "      <td>0</td>\n",
       "      <td>0</td>\n",
       "      <td>0</td>\n",
       "      <td>0</td>\n",
       "      <td>0</td>\n",
       "      <td>1</td>\n",
       "      <td>0</td>\n",
       "    </tr>\n",
       "    <tr>\n",
       "      <th>936</th>\n",
       "      <td>Android</td>\n",
       "      <td>128 GB</td>\n",
       "      <td>4 GB</td>\n",
       "      <td>LCD</td>\n",
       "      <td>NaN</td>\n",
       "      <td>10 - 15 MP</td>\n",
       "      <td>4500-5000 mAh</td>\n",
       "      <td>4.5G</td>\n",
       "      <td>60 Hz</td>\n",
       "      <td>3570.0</td>\n",
       "      <td>...</td>\n",
       "      <td>0</td>\n",
       "      <td>0</td>\n",
       "      <td>0</td>\n",
       "      <td>0</td>\n",
       "      <td>0</td>\n",
       "      <td>0</td>\n",
       "      <td>0</td>\n",
       "      <td>0</td>\n",
       "      <td>0</td>\n",
       "      <td>0</td>\n",
       "    </tr>\n",
       "    <tr>\n",
       "      <th>937</th>\n",
       "      <td>iOS</td>\n",
       "      <td>512 GB</td>\n",
       "      <td>4 GB</td>\n",
       "      <td>NaN</td>\n",
       "      <td>NaN</td>\n",
       "      <td>NaN</td>\n",
       "      <td>2000-3000 mAh</td>\n",
       "      <td>4.5G</td>\n",
       "      <td>NaN</td>\n",
       "      <td>2949.0</td>\n",
       "      <td>...</td>\n",
       "      <td>0</td>\n",
       "      <td>0</td>\n",
       "      <td>0</td>\n",
       "      <td>0</td>\n",
       "      <td>0</td>\n",
       "      <td>0</td>\n",
       "      <td>0</td>\n",
       "      <td>0</td>\n",
       "      <td>0</td>\n",
       "      <td>0</td>\n",
       "    </tr>\n",
       "    <tr>\n",
       "      <th>938</th>\n",
       "      <td>Android</td>\n",
       "      <td>32 GB</td>\n",
       "      <td>4 GB</td>\n",
       "      <td>NaN</td>\n",
       "      <td>NaN</td>\n",
       "      <td>NaN</td>\n",
       "      <td>5000-6000 mAh</td>\n",
       "      <td>5G</td>\n",
       "      <td>NaN</td>\n",
       "      <td>17660.0</td>\n",
       "      <td>...</td>\n",
       "      <td>0</td>\n",
       "      <td>0</td>\n",
       "      <td>0</td>\n",
       "      <td>0</td>\n",
       "      <td>0</td>\n",
       "      <td>0</td>\n",
       "      <td>0</td>\n",
       "      <td>0</td>\n",
       "      <td>0</td>\n",
       "      <td>0</td>\n",
       "    </tr>\n",
       "  </tbody>\n",
       "</table>\n",
       "<p>939 rows × 44 columns</p>\n",
       "</div>"
      ],
      "text/plain": [
       "      System  Memory   RAM Display Display_Quality         Camera   \n",
       "0    Android   64 GB  3 GB     LCD             HD+     10 - 15 MP  \\\n",
       "1        iOS   64 GB  4 GB     LCD             HD+     10 - 15 MP   \n",
       "2    Android  256 GB  8 GB     LCD            FHD+  20 MP ve üstü   \n",
       "3        iOS   64 GB  4 GB     LCD             HD+     10 - 15 MP   \n",
       "4    Android  256 GB  8 GB  AMOLED            FHD+  20 MP ve üstü   \n",
       "..       ...     ...   ...     ...             ...            ...   \n",
       "934  Android   64 GB  4 GB     LCD             NaN            NaN   \n",
       "935  Android  128 GB  4 GB     NaN            FHD+  20 MP ve üstü   \n",
       "936  Android  128 GB  4 GB     LCD             NaN     10 - 15 MP   \n",
       "937      iOS  512 GB  4 GB     NaN             NaN            NaN   \n",
       "938  Android   32 GB  4 GB     NaN             NaN            NaN   \n",
       "\n",
       "           Battery   Sim Screen Refresh Rate    Price  ...  Make_Smart   \n",
       "0    4500-5000 mAh    4G               60 Hz   2388.0  ...           0  \\\n",
       "1    3000-3500 mAh  4.5G               60 Hz   9799.0  ...           0   \n",
       "2    5000-6000 mAh  4.5G              120 Hz   5619.0  ...           0   \n",
       "3    3000-3500 mAh  4.5G               60 Hz   9789.0  ...           0   \n",
       "4    4500-5000 mAh  4.5G              120 Hz  12199.0  ...           0   \n",
       "..             ...   ...                 ...      ...  ...         ...   \n",
       "934  2000-3000 mAh  4.5G               60 Hz   3299.0  ...           0   \n",
       "935  3500-4000 mAh    3G                 NaN   2299.0  ...           0   \n",
       "936  4500-5000 mAh  4.5G               60 Hz   3570.0  ...           0   \n",
       "937  2000-3000 mAh  4.5G                 NaN   2949.0  ...           0   \n",
       "938  5000-6000 mAh    5G                 NaN  17660.0  ...           0   \n",
       "\n",
       "     Make_Sunny  Make_TCL  Make_Tecno  Make_Trident  Make_Ulefone   \n",
       "0             0         0           0             0             0  \\\n",
       "1             0         0           0             0             0   \n",
       "2             0         0           0             0             0   \n",
       "3             0         0           0             0             0   \n",
       "4             0         0           0             0             0   \n",
       "..          ...       ...         ...           ...           ...   \n",
       "934           0         0           1             0             0   \n",
       "935           0         0           0             0             0   \n",
       "936           0         0           0             0             0   \n",
       "937           0         0           0             0             0   \n",
       "938           0         0           0             0             0   \n",
       "\n",
       "     Make_VESTEL  Make_Vivo  Make_Xiaomi  Make_realme  \n",
       "0              0          0            0            1  \n",
       "1              0          0            0            0  \n",
       "2              0          0            0            0  \n",
       "3              0          0            0            0  \n",
       "4              0          0            0            0  \n",
       "..           ...        ...          ...          ...  \n",
       "934            0          0            0            0  \n",
       "935            0          0            1            0  \n",
       "936            0          0            0            0  \n",
       "937            0          0            0            0  \n",
       "938            0          0            0            0  \n",
       "\n",
       "[939 rows x 44 columns]"
      ]
     },
     "execution_count": 7,
     "metadata": {},
     "output_type": "execute_result"
    }
   ],
   "source": [
    "df"
   ]
  },
  {
   "cell_type": "markdown",
   "id": "ba709cf1",
   "metadata": {},
   "source": [
    "#### 2.System"
   ]
  },
  {
   "cell_type": "code",
   "execution_count": 17,
   "id": "107117bb",
   "metadata": {},
   "outputs": [
    {
     "data": {
      "text/plain": [
       "System\n",
       "Android    777\n",
       "iOS        161\n",
       "Name: count, dtype: int64"
      ]
     },
     "execution_count": 17,
     "metadata": {},
     "output_type": "execute_result"
    }
   ],
   "source": [
    "df['System'].value_counts()"
   ]
  },
  {
   "cell_type": "code",
   "execution_count": 23,
   "id": "f03d7a41",
   "metadata": {},
   "outputs": [
    {
     "data": {
      "text/plain": [
       "1"
      ]
     },
     "execution_count": 23,
     "metadata": {},
     "output_type": "execute_result"
    }
   ],
   "source": [
    "df['System'].isna().sum()"
   ]
  },
  {
   "cell_type": "code",
   "execution_count": 88,
   "id": "8cc4f797",
   "metadata": {},
   "outputs": [
    {
     "data": {
      "text/plain": [
       "'Android'"
      ]
     },
     "execution_count": 88,
     "metadata": {},
     "output_type": "execute_result"
    }
   ],
   "source": [
    "df['System'].mode()[0]"
   ]
  },
  {
   "cell_type": "code",
   "execution_count": 8,
   "id": "d65a9d59",
   "metadata": {},
   "outputs": [],
   "source": [
    "df['System'].fillna(df['System'].mode()[0], inplace=True)"
   ]
  },
  {
   "cell_type": "code",
   "execution_count": 9,
   "id": "73d724f3",
   "metadata": {},
   "outputs": [],
   "source": [
    "df['System'].replace({'Android' : 1, 'iOS':2}, inplace=True)"
   ]
  },
  {
   "cell_type": "code",
   "execution_count": 10,
   "id": "c489eab8",
   "metadata": {},
   "outputs": [],
   "source": [
    "System_data = {'Android' : 1, 'iOS':2}"
   ]
  },
  {
   "cell_type": "markdown",
   "id": "3a34cb34",
   "metadata": {},
   "source": [
    "#### 3.Memory"
   ]
  },
  {
   "cell_type": "code",
   "execution_count": 91,
   "id": "8607f970",
   "metadata": {},
   "outputs": [
    {
     "data": {
      "text/plain": [
       "{'128 GB': 393,\n",
       " '64 GB': 245,\n",
       " '32 GB': 120,\n",
       " '256 GB': 104,\n",
       " '16 GB': 32,\n",
       " '512 GB': 25,\n",
       " '1 TB': 8,\n",
       " '8 GB': 6,\n",
       " '4 GB': 2,\n",
       " '512 MB': 2,\n",
       " 'Yok': 1}"
      ]
     },
     "execution_count": 91,
     "metadata": {},
     "output_type": "execute_result"
    }
   ],
   "source": [
    "df['Memory'].value_counts().to_dict()"
   ]
  },
  {
   "cell_type": "code",
   "execution_count": 22,
   "id": "de8a848d",
   "metadata": {},
   "outputs": [
    {
     "data": {
      "text/plain": [
       "1"
      ]
     },
     "execution_count": 22,
     "metadata": {},
     "output_type": "execute_result"
    }
   ],
   "source": [
    "df['Memory'].isna().sum()"
   ]
  },
  {
   "cell_type": "code",
   "execution_count": 92,
   "id": "f654e49c",
   "metadata": {},
   "outputs": [
    {
     "data": {
      "text/plain": [
       "'128 GB'"
      ]
     },
     "execution_count": 92,
     "metadata": {},
     "output_type": "execute_result"
    }
   ],
   "source": [
    "df['Memory'].mode()[0]"
   ]
  },
  {
   "cell_type": "code",
   "execution_count": 11,
   "id": "b408b92c",
   "metadata": {},
   "outputs": [],
   "source": [
    "df['Memory'].fillna(df['Memory'].mode()[0], inplace=True)"
   ]
  },
  {
   "cell_type": "code",
   "execution_count": 12,
   "id": "a11e5815",
   "metadata": {},
   "outputs": [],
   "source": [
    "df['Memory'].replace({'128 GB':7 ,\n",
    "                        '64 GB':6 ,\n",
    "                        '32 GB': 5,\n",
    "                         '256 GB': 8,\n",
    "                         '16 GB': 4,\n",
    "                         '512 GB': 9,\n",
    "                         '1 TB': 10,\n",
    "                         '8 GB': 3,\n",
    "                         '4 GB': 2,\n",
    "                         '512 MB':1,\n",
    "                         'Yok': 0}, inplace=True)"
   ]
  },
  {
   "cell_type": "code",
   "execution_count": 13,
   "id": "9dd0abae",
   "metadata": {},
   "outputs": [],
   "source": [
    "Memory_label = {'128 GB':7 ,\n",
    "                        '64 GB':6 ,\n",
    "                        '32 GB': 5,\n",
    "                         '256 GB': 8,\n",
    "                         '16 GB': 4,\n",
    "                         '512 GB': 9,\n",
    "                         '1 TB': 10,\n",
    "                         '8 GB': 3,\n",
    "                         '4 GB': 2,\n",
    "                         '512 MB':1,\n",
    "                         'Yok': 0}"
   ]
  },
  {
   "cell_type": "markdown",
   "id": "f5732220",
   "metadata": {},
   "source": [
    "#### 3.RAM"
   ]
  },
  {
   "cell_type": "code",
   "execution_count": 96,
   "id": "6c14be4e",
   "metadata": {},
   "outputs": [
    {
     "data": {
      "text/plain": [
       "{'4 GB': 373,\n",
       " '6 GB': 190,\n",
       " '8 GB': 153,\n",
       " '3 GB': 109,\n",
       " '2 GB': 84,\n",
       " '1 GB': 16,\n",
       " '12 GB': 12,\n",
       " '32 GB': 1}"
      ]
     },
     "execution_count": 96,
     "metadata": {},
     "output_type": "execute_result"
    }
   ],
   "source": [
    "df['RAM'].value_counts().to_dict()"
   ]
  },
  {
   "cell_type": "code",
   "execution_count": 97,
   "id": "388fb16a",
   "metadata": {},
   "outputs": [
    {
     "data": {
      "text/plain": [
       "1"
      ]
     },
     "execution_count": 97,
     "metadata": {},
     "output_type": "execute_result"
    }
   ],
   "source": [
    "df['RAM'].isna().sum()"
   ]
  },
  {
   "cell_type": "code",
   "execution_count": 98,
   "id": "b28b5d6d",
   "metadata": {},
   "outputs": [
    {
     "data": {
      "text/plain": [
       "'4 GB'"
      ]
     },
     "execution_count": 98,
     "metadata": {},
     "output_type": "execute_result"
    }
   ],
   "source": [
    "df['RAM'].mode()[0]"
   ]
  },
  {
   "cell_type": "code",
   "execution_count": 14,
   "id": "4df3ea43",
   "metadata": {},
   "outputs": [],
   "source": [
    "df['RAM'].fillna(df['RAM'].mode()[0], inplace=True)"
   ]
  },
  {
   "cell_type": "code",
   "execution_count": 15,
   "id": "9c46cf88",
   "metadata": {},
   "outputs": [],
   "source": [
    "df['RAM'].replace({'4 GB': 4,\n",
    "                     '6 GB': 6,\n",
    "                     '8 GB': 7,\n",
    "                     '3 GB': 3,\n",
    "                     '2 GB': 2,\n",
    "                     '1 GB': 1,\n",
    "                     '12 GB': 8,\n",
    "                     '32 GB': 9}, inplace=True)"
   ]
  },
  {
   "cell_type": "code",
   "execution_count": 16,
   "id": "a6528575",
   "metadata": {},
   "outputs": [],
   "source": [
    "RAM_label = {'4 GB': 4,\n",
    "                     '6 GB': 6,\n",
    "                     '8 GB': 7,\n",
    "                     '3 GB': 3,\n",
    "                     '2 GB': 2,\n",
    "                     '1 GB': 1,\n",
    "                     '12 GB': 8,\n",
    "                     '32 GB': 9}"
   ]
  },
  {
   "cell_type": "code",
   "execution_count": 102,
   "id": "f5610776",
   "metadata": {},
   "outputs": [
    {
     "data": {
      "text/plain": [
       "{'LCD': 367, 'AMOLED': 140, 'OLED': 59, 'LED': 2}"
      ]
     },
     "execution_count": 102,
     "metadata": {},
     "output_type": "execute_result"
    }
   ],
   "source": [
    "df['Display'].value_counts().to_dict()"
   ]
  },
  {
   "cell_type": "code",
   "execution_count": 103,
   "id": "ff3a1f4a",
   "metadata": {},
   "outputs": [
    {
     "data": {
      "text/plain": [
       "371"
      ]
     },
     "execution_count": 103,
     "metadata": {},
     "output_type": "execute_result"
    }
   ],
   "source": [
    "df['Display'].isna().sum()"
   ]
  },
  {
   "cell_type": "code",
   "execution_count": 104,
   "id": "800f7b57",
   "metadata": {},
   "outputs": [
    {
     "data": {
      "text/plain": [
       "'LCD'"
      ]
     },
     "execution_count": 104,
     "metadata": {},
     "output_type": "execute_result"
    }
   ],
   "source": [
    "df['Display'].mode()[0]"
   ]
  },
  {
   "cell_type": "code",
   "execution_count": 17,
   "id": "5d2c0bcc",
   "metadata": {},
   "outputs": [],
   "source": [
    "df['Display'].fillna(df['Display'].mode()[0], inplace=True)"
   ]
  },
  {
   "cell_type": "code",
   "execution_count": 18,
   "id": "6aead4c8",
   "metadata": {},
   "outputs": [],
   "source": [
    "df['Display'].replace({'LCD': 1, 'AMOLED': 4, 'OLED': 3, 'LED': 2}, inplace=True)"
   ]
  },
  {
   "cell_type": "code",
   "execution_count": 19,
   "id": "0beb88bd",
   "metadata": {},
   "outputs": [],
   "source": [
    "Display_label = {'LCD': 1, 'AMOLED': 4, 'OLED': 3, 'LED': 2}"
   ]
  },
  {
   "cell_type": "code",
   "execution_count": 108,
   "id": "bcf8a02a",
   "metadata": {},
   "outputs": [
    {
     "data": {
      "text/plain": [
       "{'FHD+': 294, 'HD+': 258, 'HD': 24, 'QHD+': 23, 'QHD': 3, 'UHD+': 1}"
      ]
     },
     "execution_count": 108,
     "metadata": {},
     "output_type": "execute_result"
    }
   ],
   "source": [
    "df['Display_Quality'].value_counts().to_dict()"
   ]
  },
  {
   "cell_type": "code",
   "execution_count": 109,
   "id": "b9ed1f3a",
   "metadata": {},
   "outputs": [
    {
     "data": {
      "text/plain": [
       "336"
      ]
     },
     "execution_count": 109,
     "metadata": {},
     "output_type": "execute_result"
    }
   ],
   "source": [
    "df['Display_Quality'].isna().sum()"
   ]
  },
  {
   "cell_type": "code",
   "execution_count": 110,
   "id": "cb4ef31c",
   "metadata": {},
   "outputs": [
    {
     "data": {
      "text/plain": [
       "'FHD+'"
      ]
     },
     "execution_count": 110,
     "metadata": {},
     "output_type": "execute_result"
    }
   ],
   "source": [
    "df['Display_Quality'].mode()[0]"
   ]
  },
  {
   "cell_type": "code",
   "execution_count": 21,
   "id": "faa652f1",
   "metadata": {},
   "outputs": [],
   "source": [
    "df['Display_Quality'].fillna(df['Display_Quality'].mode()[0], inplace=True)"
   ]
  },
  {
   "cell_type": "code",
   "execution_count": 22,
   "id": "5f8f070a",
   "metadata": {},
   "outputs": [],
   "source": [
    "df['Display_Quality'].replace({'FHD+': 3, 'HD+': 2, 'HD': 1, 'QHD+': 5, 'QHD': 4, 'UHD+': 6}, inplace=True)"
   ]
  },
  {
   "cell_type": "code",
   "execution_count": 23,
   "id": "caf35c30",
   "metadata": {},
   "outputs": [],
   "source": [
    "Display_Quality_label = {'FHD+': 3, 'HD+': 2, 'HD': 1, 'QHD+': 5, 'QHD': 4, 'UHD+': 6}"
   ]
  },
  {
   "cell_type": "code",
   "execution_count": 114,
   "id": "6df72cd5",
   "metadata": {},
   "outputs": [
    {
     "data": {
      "text/plain": [
       "{'20 MP ve üstü': 277,\n",
       " '10 - 15 MP': 264,\n",
       " '15 - 20 MP': 45,\n",
       " '5 - 10 MP': 28,\n",
       " '5 MP ve altı': 3}"
      ]
     },
     "execution_count": 114,
     "metadata": {},
     "output_type": "execute_result"
    }
   ],
   "source": [
    "df['Camera'].value_counts().to_dict()"
   ]
  },
  {
   "cell_type": "code",
   "execution_count": 115,
   "id": "b0c4405a",
   "metadata": {},
   "outputs": [
    {
     "data": {
      "text/plain": [
       "322"
      ]
     },
     "execution_count": 115,
     "metadata": {},
     "output_type": "execute_result"
    }
   ],
   "source": [
    "df['Camera'].isna().sum()"
   ]
  },
  {
   "cell_type": "code",
   "execution_count": 116,
   "id": "acf77d61",
   "metadata": {},
   "outputs": [
    {
     "data": {
      "text/plain": [
       "0.34291799787007454"
      ]
     },
     "execution_count": 116,
     "metadata": {},
     "output_type": "execute_result"
    }
   ],
   "source": [
    "df['Camera'].isna().mean()"
   ]
  },
  {
   "cell_type": "code",
   "execution_count": 117,
   "id": "8777a0dd",
   "metadata": {},
   "outputs": [
    {
     "data": {
      "text/plain": [
       "'20 MP ve üstü'"
      ]
     },
     "execution_count": 117,
     "metadata": {},
     "output_type": "execute_result"
    }
   ],
   "source": [
    "df['Camera'].mode()[0]"
   ]
  },
  {
   "cell_type": "code",
   "execution_count": 24,
   "id": "cb88beb4",
   "metadata": {},
   "outputs": [],
   "source": [
    "df['Camera'].fillna(df['Camera'].mode()[0], inplace=True)"
   ]
  },
  {
   "cell_type": "code",
   "execution_count": 25,
   "id": "2813d55f",
   "metadata": {},
   "outputs": [],
   "source": [
    "df['Camera'].replace({'20 MP ve üstü': 5,\n",
    "                         '10 - 15 MP':4,\n",
    "                         '15 - 20 MP': 3,\n",
    "                         '5 - 10 MP': 2,\n",
    "                         '5 MP ve altı': 1}, inplace = True)"
   ]
  },
  {
   "cell_type": "code",
   "execution_count": 26,
   "id": "a33e63b6",
   "metadata": {},
   "outputs": [],
   "source": [
    "Camera_label = {'20 MP ve üstü': 5,\n",
    "                         '10 - 15 MP':4,\n",
    "                         '15 - 20 MP': 3,\n",
    "                         '5 - 10 MP': 2,\n",
    "                         '5 MP ve altı': 1}\n"
   ]
  },
  {
   "cell_type": "code",
   "execution_count": 28,
   "id": "1ef3820d",
   "metadata": {},
   "outputs": [
    {
     "data": {
      "text/plain": [
       "{'4500-5000 mAh': 247,\n",
       " '5000-6000 mAh': 185,\n",
       " '4000-4500 mAh': 149,\n",
       " '3500-4000 mAh': 130,\n",
       " '3000-3500 mAh': 107,\n",
       " '2000-3000 mAh': 86,\n",
       " '1000-2000 mAh': 18,\n",
       " '800-1000 mAh': 11,\n",
       " '6000-7000 mAh': 6}"
      ]
     },
     "execution_count": 28,
     "metadata": {},
     "output_type": "execute_result"
    }
   ],
   "source": [
    "df['Battery'].value_counts().to_dict()"
   ]
  },
  {
   "cell_type": "code",
   "execution_count": 121,
   "id": "46849ea3",
   "metadata": {},
   "outputs": [
    {
     "data": {
      "text/plain": [
       "1"
      ]
     },
     "execution_count": 121,
     "metadata": {},
     "output_type": "execute_result"
    }
   ],
   "source": [
    "df['Battery'].isna().sum()"
   ]
  },
  {
   "cell_type": "code",
   "execution_count": 72,
   "id": "0c87b2d1",
   "metadata": {},
   "outputs": [
    {
     "data": {
      "text/plain": [
       "'4500-5000 mAh'"
      ]
     },
     "execution_count": 72,
     "metadata": {},
     "output_type": "execute_result"
    }
   ],
   "source": [
    "df['Battery'].mode()[0]"
   ]
  },
  {
   "cell_type": "code",
   "execution_count": 27,
   "id": "891b1772",
   "metadata": {},
   "outputs": [],
   "source": [
    "df['Battery'].fillna(df['Battery'].mode()[0], inplace=True)"
   ]
  },
  {
   "cell_type": "code",
   "execution_count": 29,
   "id": "9143bad4",
   "metadata": {},
   "outputs": [],
   "source": [
    "df['Battery'].replace({'4500-5000 mAh': 8,\n",
    "                         '5000-6000 mAh': 7,\n",
    "                         '4000-4500 mAh': 6,\n",
    "                         '3500-4000 mAh': 5,\n",
    "                         '3000-3500 mAh': 4,\n",
    "                         '2000-3000 mAh': 3,\n",
    "                         '1000-2000 mAh': 2,\n",
    "                         '800-1000 mAh': 1,\n",
    "                         '6000-7000 mAh': 9}, inplace =True)"
   ]
  },
  {
   "cell_type": "code",
   "execution_count": 30,
   "id": "56fd7141",
   "metadata": {},
   "outputs": [],
   "source": [
    "Battery_label = {'4500-5000 mAh': 8,\n",
    "                        '5000-6000 mAh': 7,\n",
    "                         '4000-4500 mAh': 6,\n",
    "                         '3500-4000 mAh': 5,\n",
    "                         '3000-3500 mAh': 4,\n",
    "                         '2000-3000 mAh': 3,\n",
    "                         '1000-2000 mAh': 2,\n",
    "                         '800-1000 mAh': 1,\n",
    "                         '6000-7000 mAh': 9}"
   ]
  },
  {
   "cell_type": "code",
   "execution_count": 125,
   "id": "79c905ed",
   "metadata": {},
   "outputs": [
    {
     "data": {
      "text/plain": [
       "{'4.5G': 682, '5G': 169, '4G': 58, '3G': 18, '2G': 7}"
      ]
     },
     "execution_count": 125,
     "metadata": {},
     "output_type": "execute_result"
    }
   ],
   "source": [
    "df['Sim'].value_counts().to_dict()"
   ]
  },
  {
   "cell_type": "code",
   "execution_count": 78,
   "id": "a2b4be86",
   "metadata": {},
   "outputs": [
    {
     "data": {
      "text/plain": [
       "5"
      ]
     },
     "execution_count": 78,
     "metadata": {},
     "output_type": "execute_result"
    }
   ],
   "source": [
    "df['Sim'].isna().sum()"
   ]
  },
  {
   "cell_type": "code",
   "execution_count": 79,
   "id": "e02464f9",
   "metadata": {},
   "outputs": [
    {
     "data": {
      "text/plain": [
       "'4.5G'"
      ]
     },
     "execution_count": 79,
     "metadata": {},
     "output_type": "execute_result"
    }
   ],
   "source": [
    "df['Sim'].mode()[0]"
   ]
  },
  {
   "cell_type": "code",
   "execution_count": 31,
   "id": "b83959cf",
   "metadata": {},
   "outputs": [],
   "source": [
    "df['Sim'].fillna(df['Sim'].mode()[0], inplace=True)"
   ]
  },
  {
   "cell_type": "code",
   "execution_count": 32,
   "id": "baac0b93",
   "metadata": {},
   "outputs": [],
   "source": [
    "df['Sim'].replace({'4.5G': 5, '5G': 4, '4G': 3, '3G': 2, '2G': 1}, inplace=True)"
   ]
  },
  {
   "cell_type": "code",
   "execution_count": 33,
   "id": "a79d35b8",
   "metadata": {},
   "outputs": [],
   "source": [
    "Sim_label= {'4.5G': 5, '5G': 4, '4G': 3, '3G': 2, '2G': 1}"
   ]
  },
  {
   "cell_type": "markdown",
   "id": "f809eb7a",
   "metadata": {},
   "source": [
    "#### 10.Screen Refresh Rate"
   ]
  },
  {
   "cell_type": "code",
   "execution_count": 130,
   "id": "6fd819da",
   "metadata": {},
   "outputs": [
    {
     "data": {
      "text/plain": [
       "{'60 Hz': 501,\n",
       " '120 Hz': 56,\n",
       " '90 Hz': 44,\n",
       " '60 Hz altı': 6,\n",
       " '144 Hz': 2,\n",
       " '144 Hz üstü': 1}"
      ]
     },
     "execution_count": 130,
     "metadata": {},
     "output_type": "execute_result"
    }
   ],
   "source": [
    "df['Screen Refresh Rate'].value_counts().to_dict()"
   ]
  },
  {
   "cell_type": "code",
   "execution_count": 131,
   "id": "b74684e5",
   "metadata": {},
   "outputs": [
    {
     "data": {
      "text/plain": [
       "329"
      ]
     },
     "execution_count": 131,
     "metadata": {},
     "output_type": "execute_result"
    }
   ],
   "source": [
    "df['Screen Refresh Rate'].isna().sum()"
   ]
  },
  {
   "cell_type": "code",
   "execution_count": 133,
   "id": "4473b984",
   "metadata": {},
   "outputs": [
    {
     "data": {
      "text/plain": [
       "'60 Hz'"
      ]
     },
     "execution_count": 133,
     "metadata": {},
     "output_type": "execute_result"
    }
   ],
   "source": [
    "df['Screen Refresh Rate'].mode()[0]"
   ]
  },
  {
   "cell_type": "code",
   "execution_count": 34,
   "id": "6f30f79f",
   "metadata": {},
   "outputs": [],
   "source": [
    "df['Screen Refresh Rate'].fillna(df['Screen Refresh Rate'].mode()[0], inplace=True)"
   ]
  },
  {
   "cell_type": "code",
   "execution_count": 35,
   "id": "e539b407",
   "metadata": {},
   "outputs": [],
   "source": [
    "df['Screen Refresh Rate'].replace({'60 Hz': 1,\n",
    "                                     '120 Hz': 3,\n",
    "                                     '90 Hz': 2,\n",
    "                                     '60 Hz altı':5,\n",
    "                                     '144 Hz': 4,\n",
    "                                     '144 Hz üstü': 6}, inplace=True)"
   ]
  },
  {
   "cell_type": "code",
   "execution_count": 36,
   "id": "7299c81e",
   "metadata": {},
   "outputs": [],
   "source": [
    "Screen_Refresh_Rate_label= {'60 Hz': 1,\n",
    "                    '120 Hz': 3,\n",
    "                    '90 Hz': 2,\n",
    "                     '60 Hz altı':5,\n",
    "                     '144 Hz': 4,\n",
    "                    '144 Hz üstü': 6}"
   ]
  },
  {
   "cell_type": "code",
   "execution_count": 141,
   "id": "f45af27a",
   "metadata": {},
   "outputs": [
    {
     "data": {
      "text/plain": [
       "2"
      ]
     },
     "execution_count": 141,
     "metadata": {},
     "output_type": "execute_result"
    }
   ],
   "source": [
    "df['Price'].isna().sum()"
   ]
  },
  {
   "cell_type": "code",
   "execution_count": 145,
   "id": "d77159ce",
   "metadata": {},
   "outputs": [
    {
     "data": {
      "text/plain": [
       "6692.733191035219"
      ]
     },
     "execution_count": 145,
     "metadata": {},
     "output_type": "execute_result"
    }
   ],
   "source": [
    "df['Price'].mean()"
   ]
  },
  {
   "cell_type": "code",
   "execution_count": 37,
   "id": "4eced1c8",
   "metadata": {},
   "outputs": [],
   "source": [
    "df['Price'].fillna(df['Price'].mean(), inplace=True)"
   ]
  },
  {
   "cell_type": "code",
   "execution_count": 149,
   "id": "16705c94",
   "metadata": {},
   "outputs": [
    {
     "name": "stdout",
     "output_type": "stream",
     "text": [
      "<class 'pandas.core.frame.DataFrame'>\n",
      "RangeIndex: 939 entries, 0 to 938\n",
      "Data columns (total 44 columns):\n",
      " #   Column               Non-Null Count  Dtype  \n",
      "---  ------               --------------  -----  \n",
      " 0   System               939 non-null    int64  \n",
      " 1   Memory               939 non-null    int64  \n",
      " 2   RAM                  939 non-null    int64  \n",
      " 3   Display              939 non-null    int64  \n",
      " 4   Display_Quality      939 non-null    int64  \n",
      " 5   Camera               939 non-null    int64  \n",
      " 6   Battery              939 non-null    int64  \n",
      " 7   Sim                  939 non-null    int64  \n",
      " 8   Screen Refresh Rate  939 non-null    int64  \n",
      " 9   Price                939 non-null    float64\n",
      " 10  Make_Alcatel         939 non-null    int32  \n",
      " 11  Make_Apple           939 non-null    int32  \n",
      " 12  Make_Casper          939 non-null    int32  \n",
      " 13  Make_Cat             939 non-null    int32  \n",
      " 14  Make_Doogee          939 non-null    int32  \n",
      " 15  Make_Elephone        939 non-null    int32  \n",
      " 16  Make_General Mobile  939 non-null    int32  \n",
      " 17  Make_Hiking          939 non-null    int32  \n",
      " 18  Make_Honor           939 non-null    int32  \n",
      " 19  Make_Htc             939 non-null    int32  \n",
      " 20  Make_Huawei          939 non-null    int32  \n",
      " 21  Make_Infinix         939 non-null    int32  \n",
      " 22  Make_LENOVO          939 non-null    int32  \n",
      " 23  Make_LG              939 non-null    int32  \n",
      " 24  Make_Meizu           939 non-null    int32  \n",
      " 25  Make_Motorola        939 non-null    int32  \n",
      " 26  Make_Nokia           939 non-null    int32  \n",
      " 27  Make_Omix            939 non-null    int32  \n",
      " 28  Make_Oneplus         939 non-null    int32  \n",
      " 29  Make_Oppo            939 non-null    int32  \n",
      " 30  Make_Oukitel         939 non-null    int32  \n",
      " 31  Make_POCO            939 non-null    int32  \n",
      " 32  Make_Reeder          939 non-null    int32  \n",
      " 33  Make_Samsung         939 non-null    int32  \n",
      " 34  Make_Smart           939 non-null    int32  \n",
      " 35  Make_Sunny           939 non-null    int32  \n",
      " 36  Make_TCL             939 non-null    int32  \n",
      " 37  Make_Tecno           939 non-null    int32  \n",
      " 38  Make_Trident         939 non-null    int32  \n",
      " 39  Make_Ulefone         939 non-null    int32  \n",
      " 40  Make_VESTEL          939 non-null    int32  \n",
      " 41  Make_Vivo            939 non-null    int32  \n",
      " 42  Make_Xiaomi          939 non-null    int32  \n",
      " 43  Make_realme          939 non-null    int32  \n",
      "dtypes: float64(1), int32(34), int64(9)\n",
      "memory usage: 198.2 KB\n"
     ]
    }
   ],
   "source": [
    "df.info()"
   ]
  },
  {
   "cell_type": "markdown",
   "id": "2511d14b",
   "metadata": {},
   "source": [
    "### Model Training\n"
   ]
  },
  {
   "cell_type": "code",
   "execution_count": 38,
   "id": "2a2c79b1",
   "metadata": {},
   "outputs": [],
   "source": [
    "x = df.drop('Price', axis = 1)\n",
    "y= df['Price']"
   ]
  },
  {
   "cell_type": "code",
   "execution_count": 39,
   "id": "4947b936",
   "metadata": {},
   "outputs": [],
   "source": [
    "x_train, x_test,y_train, y_test = train_test_split(x,y,test_size=0.3, random_state=1)"
   ]
  },
  {
   "cell_type": "code",
   "execution_count": 40,
   "id": "960cf45f",
   "metadata": {},
   "outputs": [
    {
     "data": {
      "text/html": [
       "<style>#sk-container-id-1 {color: black;background-color: white;}#sk-container-id-1 pre{padding: 0;}#sk-container-id-1 div.sk-toggleable {background-color: white;}#sk-container-id-1 label.sk-toggleable__label {cursor: pointer;display: block;width: 100%;margin-bottom: 0;padding: 0.3em;box-sizing: border-box;text-align: center;}#sk-container-id-1 label.sk-toggleable__label-arrow:before {content: \"▸\";float: left;margin-right: 0.25em;color: #696969;}#sk-container-id-1 label.sk-toggleable__label-arrow:hover:before {color: black;}#sk-container-id-1 div.sk-estimator:hover label.sk-toggleable__label-arrow:before {color: black;}#sk-container-id-1 div.sk-toggleable__content {max-height: 0;max-width: 0;overflow: hidden;text-align: left;background-color: #f0f8ff;}#sk-container-id-1 div.sk-toggleable__content pre {margin: 0.2em;color: black;border-radius: 0.25em;background-color: #f0f8ff;}#sk-container-id-1 input.sk-toggleable__control:checked~div.sk-toggleable__content {max-height: 200px;max-width: 100%;overflow: auto;}#sk-container-id-1 input.sk-toggleable__control:checked~label.sk-toggleable__label-arrow:before {content: \"▾\";}#sk-container-id-1 div.sk-estimator input.sk-toggleable__control:checked~label.sk-toggleable__label {background-color: #d4ebff;}#sk-container-id-1 div.sk-label input.sk-toggleable__control:checked~label.sk-toggleable__label {background-color: #d4ebff;}#sk-container-id-1 input.sk-hidden--visually {border: 0;clip: rect(1px 1px 1px 1px);clip: rect(1px, 1px, 1px, 1px);height: 1px;margin: -1px;overflow: hidden;padding: 0;position: absolute;width: 1px;}#sk-container-id-1 div.sk-estimator {font-family: monospace;background-color: #f0f8ff;border: 1px dotted black;border-radius: 0.25em;box-sizing: border-box;margin-bottom: 0.5em;}#sk-container-id-1 div.sk-estimator:hover {background-color: #d4ebff;}#sk-container-id-1 div.sk-parallel-item::after {content: \"\";width: 100%;border-bottom: 1px solid gray;flex-grow: 1;}#sk-container-id-1 div.sk-label:hover label.sk-toggleable__label {background-color: #d4ebff;}#sk-container-id-1 div.sk-serial::before {content: \"\";position: absolute;border-left: 1px solid gray;box-sizing: border-box;top: 0;bottom: 0;left: 50%;z-index: 0;}#sk-container-id-1 div.sk-serial {display: flex;flex-direction: column;align-items: center;background-color: white;padding-right: 0.2em;padding-left: 0.2em;position: relative;}#sk-container-id-1 div.sk-item {position: relative;z-index: 1;}#sk-container-id-1 div.sk-parallel {display: flex;align-items: stretch;justify-content: center;background-color: white;position: relative;}#sk-container-id-1 div.sk-item::before, #sk-container-id-1 div.sk-parallel-item::before {content: \"\";position: absolute;border-left: 1px solid gray;box-sizing: border-box;top: 0;bottom: 0;left: 50%;z-index: -1;}#sk-container-id-1 div.sk-parallel-item {display: flex;flex-direction: column;z-index: 1;position: relative;background-color: white;}#sk-container-id-1 div.sk-parallel-item:first-child::after {align-self: flex-end;width: 50%;}#sk-container-id-1 div.sk-parallel-item:last-child::after {align-self: flex-start;width: 50%;}#sk-container-id-1 div.sk-parallel-item:only-child::after {width: 0;}#sk-container-id-1 div.sk-dashed-wrapped {border: 1px dashed gray;margin: 0 0.4em 0.5em 0.4em;box-sizing: border-box;padding-bottom: 0.4em;background-color: white;}#sk-container-id-1 div.sk-label label {font-family: monospace;font-weight: bold;display: inline-block;line-height: 1.2em;}#sk-container-id-1 div.sk-label-container {text-align: center;}#sk-container-id-1 div.sk-container {/* jupyter's `normalize.less` sets `[hidden] { display: none; }` but bootstrap.min.css set `[hidden] { display: none !important; }` so we also need the `!important` here to be able to override the default hidden behavior on the sphinx rendered scikit-learn.org. See: https://github.com/scikit-learn/scikit-learn/issues/21755 */display: inline-block !important;position: relative;}#sk-container-id-1 div.sk-text-repr-fallback {display: none;}</style><div id=\"sk-container-id-1\" class=\"sk-top-container\"><div class=\"sk-text-repr-fallback\"><pre>LinearRegression()</pre><b>In a Jupyter environment, please rerun this cell to show the HTML representation or trust the notebook. <br />On GitHub, the HTML representation is unable to render, please try loading this page with nbviewer.org.</b></div><div class=\"sk-container\" hidden><div class=\"sk-item\"><div class=\"sk-estimator sk-toggleable\"><input class=\"sk-toggleable__control sk-hidden--visually\" id=\"sk-estimator-id-1\" type=\"checkbox\" checked><label for=\"sk-estimator-id-1\" class=\"sk-toggleable__label sk-toggleable__label-arrow\">LinearRegression</label><div class=\"sk-toggleable__content\"><pre>LinearRegression()</pre></div></div></div></div></div>"
      ],
      "text/plain": [
       "LinearRegression()"
      ]
     },
     "execution_count": 40,
     "metadata": {},
     "output_type": "execute_result"
    }
   ],
   "source": [
    "lin_reg = LinearRegression()\n",
    "lin_reg.fit(x_train,y_train)"
   ]
  },
  {
   "cell_type": "markdown",
   "id": "1d1b9e03",
   "metadata": {},
   "source": [
    "### Evaluation"
   ]
  },
  {
   "cell_type": "markdown",
   "id": "40866382",
   "metadata": {},
   "source": [
    "#### Testing Model"
   ]
  },
  {
   "cell_type": "code",
   "execution_count": 41,
   "id": "73d9c1ac",
   "metadata": {},
   "outputs": [
    {
     "name": "stdout",
     "output_type": "stream",
     "text": [
      "MSE :  32447880.92171937\n",
      "RMSE :  5696.304145822918\n",
      "MAE :  3764.480326710771\n",
      "R2 value is :  0.19737777727116101\n"
     ]
    }
   ],
   "source": [
    "y_test_pred = lin_reg.predict(x_test)\n",
    "\n",
    "mse = mean_squared_error(y_test,y_test_pred)\n",
    "print(\"MSE : \", mse)\n",
    "\n",
    "rmse = np.sqrt(mse)\n",
    "print(\"RMSE : \", rmse)\n",
    "\n",
    "mae = mean_absolute_error(y_test, y_test_pred)\n",
    "print(\"MAE : \", mae)\n",
    "\n",
    "r2value = r2_score(y_test,y_test_pred)\n",
    "print(\"R2 value is : \", r2value)"
   ]
  },
  {
   "cell_type": "markdown",
   "id": "fbf1e346",
   "metadata": {},
   "source": [
    "#### Training Model"
   ]
  },
  {
   "cell_type": "code",
   "execution_count": 42,
   "id": "aa29e62d",
   "metadata": {},
   "outputs": [
    {
     "name": "stdout",
     "output_type": "stream",
     "text": [
      "MSE :  24311782.369934812\n",
      "RMSE :  4930.697959714711\n",
      "MAE :  3277.2207414450245\n",
      "R2 value is :  0.3488488977134452\n"
     ]
    }
   ],
   "source": [
    "y_train_pred = lin_reg.predict(x_train)\n",
    "\n",
    "mse = mean_squared_error(y_train,y_train_pred)\n",
    "print(\"MSE : \", mse)\n",
    "\n",
    "rmse = np.sqrt(mse)\n",
    "print(\"RMSE : \", rmse)\n",
    "\n",
    "mae = mean_absolute_error(y_train,y_train_pred)\n",
    "print(\"MAE : \", mae)\n",
    "\n",
    "r2value = r2_score(y_train,y_train_pred)\n",
    "print(\"R2 value is : \", r2value)"
   ]
  },
  {
   "cell_type": "markdown",
   "id": "faa933bb",
   "metadata": {},
   "source": [
    "### Residuals"
   ]
  },
  {
   "cell_type": "code",
   "execution_count": 43,
   "id": "773470f0",
   "metadata": {},
   "outputs": [
    {
     "data": {
      "text/plain": [
       "604     9709.166110\n",
       "527    -1493.091532\n",
       "893    -6317.704598\n",
       "195    -1687.350321\n",
       "422    -1428.165831\n",
       "           ...     \n",
       "528      200.659575\n",
       "311    12802.854342\n",
       "57     -4123.224740\n",
       "495     2139.624231\n",
       "837     8369.447729\n",
       "Name: Price, Length: 282, dtype: float64"
      ]
     },
     "execution_count": 43,
     "metadata": {},
     "output_type": "execute_result"
    }
   ],
   "source": [
    "residuals = y_test-y_test_pred\n",
    "residuals"
   ]
  },
  {
   "cell_type": "markdown",
   "id": "b711cfef",
   "metadata": {},
   "source": [
    "#### single row testing"
   ]
  },
  {
   "cell_type": "code",
   "execution_count": 44,
   "id": "39627027",
   "metadata": {},
   "outputs": [
    {
     "data": {
      "text/html": [
       "<div>\n",
       "<style scoped>\n",
       "    .dataframe tbody tr th:only-of-type {\n",
       "        vertical-align: middle;\n",
       "    }\n",
       "\n",
       "    .dataframe tbody tr th {\n",
       "        vertical-align: top;\n",
       "    }\n",
       "\n",
       "    .dataframe thead th {\n",
       "        text-align: right;\n",
       "    }\n",
       "</style>\n",
       "<table border=\"1\" class=\"dataframe\">\n",
       "  <thead>\n",
       "    <tr style=\"text-align: right;\">\n",
       "      <th></th>\n",
       "      <th>System</th>\n",
       "      <th>Memory</th>\n",
       "      <th>RAM</th>\n",
       "      <th>Display</th>\n",
       "      <th>Display_Quality</th>\n",
       "      <th>Camera</th>\n",
       "      <th>Battery</th>\n",
       "      <th>Sim</th>\n",
       "      <th>Screen Refresh Rate</th>\n",
       "      <th>Make_Alcatel</th>\n",
       "      <th>...</th>\n",
       "      <th>Make_Smart</th>\n",
       "      <th>Make_Sunny</th>\n",
       "      <th>Make_TCL</th>\n",
       "      <th>Make_Tecno</th>\n",
       "      <th>Make_Trident</th>\n",
       "      <th>Make_Ulefone</th>\n",
       "      <th>Make_VESTEL</th>\n",
       "      <th>Make_Vivo</th>\n",
       "      <th>Make_Xiaomi</th>\n",
       "      <th>Make_realme</th>\n",
       "    </tr>\n",
       "  </thead>\n",
       "  <tbody>\n",
       "    <tr>\n",
       "      <th>457</th>\n",
       "      <td>1</td>\n",
       "      <td>6</td>\n",
       "      <td>4</td>\n",
       "      <td>1</td>\n",
       "      <td>3</td>\n",
       "      <td>5</td>\n",
       "      <td>8</td>\n",
       "      <td>5</td>\n",
       "      <td>1</td>\n",
       "      <td>0</td>\n",
       "      <td>...</td>\n",
       "      <td>0</td>\n",
       "      <td>0</td>\n",
       "      <td>0</td>\n",
       "      <td>0</td>\n",
       "      <td>0</td>\n",
       "      <td>0</td>\n",
       "      <td>0</td>\n",
       "      <td>0</td>\n",
       "      <td>1</td>\n",
       "      <td>0</td>\n",
       "    </tr>\n",
       "  </tbody>\n",
       "</table>\n",
       "<p>1 rows × 43 columns</p>\n",
       "</div>"
      ],
      "text/plain": [
       "     System  Memory  RAM  Display  Display_Quality  Camera  Battery  Sim   \n",
       "457       1       6    4        1                3       5        8    5  \\\n",
       "\n",
       "     Screen Refresh Rate  Make_Alcatel  ...  Make_Smart  Make_Sunny  Make_TCL   \n",
       "457                    1             0  ...           0           0         0  \\\n",
       "\n",
       "     Make_Tecno  Make_Trident  Make_Ulefone  Make_VESTEL  Make_Vivo   \n",
       "457           0             0             0            0          0  \\\n",
       "\n",
       "     Make_Xiaomi  Make_realme  \n",
       "457            1            0  \n",
       "\n",
       "[1 rows x 43 columns]"
      ]
     },
     "execution_count": 44,
     "metadata": {},
     "output_type": "execute_result"
    }
   ],
   "source": [
    "x_test[151:152]"
   ]
  },
  {
   "cell_type": "code",
   "execution_count": 46,
   "id": "27f24ac2",
   "metadata": {},
   "outputs": [
    {
     "data": {
      "text/plain": [
       "4225.889858748076"
      ]
     },
     "execution_count": 46,
     "metadata": {},
     "output_type": "execute_result"
    }
   ],
   "source": [
    "lin_reg.predict(x_test[151:152])[0]"
   ]
  },
  {
   "cell_type": "code",
   "execution_count": 47,
   "id": "2624cb4b",
   "metadata": {},
   "outputs": [
    {
     "data": {
      "text/plain": [
       "['System',\n",
       " 'Memory',\n",
       " 'RAM',\n",
       " 'Display',\n",
       " 'Display_Quality',\n",
       " 'Camera',\n",
       " 'Battery',\n",
       " 'Sim',\n",
       " 'Screen Refresh Rate',\n",
       " 'Make_Alcatel',\n",
       " 'Make_Apple',\n",
       " 'Make_Casper',\n",
       " 'Make_Cat',\n",
       " 'Make_Doogee',\n",
       " 'Make_Elephone',\n",
       " 'Make_General Mobile',\n",
       " 'Make_Hiking',\n",
       " 'Make_Honor',\n",
       " 'Make_Htc',\n",
       " 'Make_Huawei',\n",
       " 'Make_Infinix',\n",
       " 'Make_LENOVO',\n",
       " 'Make_LG',\n",
       " 'Make_Meizu',\n",
       " 'Make_Motorola',\n",
       " 'Make_Nokia',\n",
       " 'Make_Omix',\n",
       " 'Make_Oneplus',\n",
       " 'Make_Oppo',\n",
       " 'Make_Oukitel',\n",
       " 'Make_POCO',\n",
       " 'Make_Reeder',\n",
       " 'Make_Samsung',\n",
       " 'Make_Smart',\n",
       " 'Make_Sunny',\n",
       " 'Make_TCL',\n",
       " 'Make_Tecno',\n",
       " 'Make_Trident',\n",
       " 'Make_Ulefone',\n",
       " 'Make_VESTEL',\n",
       " 'Make_Vivo',\n",
       " 'Make_Xiaomi',\n",
       " 'Make_realme']"
      ]
     },
     "execution_count": 47,
     "metadata": {},
     "output_type": "execute_result"
    }
   ],
   "source": [
    "column_names= x.columns.to_list()\n",
    "column_names"
   ]
  },
  {
   "cell_type": "code",
   "execution_count": 48,
   "id": "410ed988",
   "metadata": {},
   "outputs": [
    {
     "data": {
      "text/plain": [
       "43"
      ]
     },
     "execution_count": 48,
     "metadata": {},
     "output_type": "execute_result"
    }
   ],
   "source": [
    "lin_reg.n_features_in_"
   ]
  },
  {
   "cell_type": "code",
   "execution_count": 49,
   "id": "c8cc5a6b",
   "metadata": {},
   "outputs": [],
   "source": [
    "System='Android'\n",
    "Memory='128 GB'\n",
    "RAM='4 GB'\n",
    "Display='LCD'\n",
    "Display_Quality='HD'\n",
    "Camera='20 MP ve üstü'\n",
    "Battery='4500-5000 mAh'\n",
    "Sim='4.5G'\n",
    "Screen_Refresh_Rate='60 Hz'"
   ]
  },
  {
   "cell_type": "code",
   "execution_count": 50,
   "id": "f37d5860",
   "metadata": {},
   "outputs": [],
   "source": [
    "Mobileprice = {'System' : System_data ,'Memory': Memory_label, 'RAM' :RAM_label, 'Display' :Display_label,\n",
    "               'Display_Quality' : Display_Quality_label, 'Camera' :Camera_label, 'Battery' :Battery_label,\n",
    "                    'Sim' : Sim_label, 'Screen_Refresh_Rate' : Screen_Refresh_Rate_label, 'Column_names' : column_names}"
   ]
  },
  {
   "cell_type": "code",
   "execution_count": 51,
   "id": "85359af0",
   "metadata": {},
   "outputs": [],
   "source": [
    "with open(\"Mobile_Price.pkl\", \"wb\") as f:\n",
    "    pickle.dump(lin_reg,f)"
   ]
  },
  {
   "cell_type": "code",
   "execution_count": 52,
   "id": "24793d51",
   "metadata": {},
   "outputs": [],
   "source": [
    "with open(\"Mobile_price.json\", \"w\") as f:\n",
    "    json.dump(Mobileprice, f)"
   ]
  },
  {
   "cell_type": "code",
   "execution_count": null,
   "id": "2d82a770",
   "metadata": {},
   "outputs": [],
   "source": []
  }
 ],
 "metadata": {
  "kernelspec": {
   "display_name": "Python 3 (ipykernel)",
   "language": "python",
   "name": "python3"
  },
  "language_info": {
   "codemirror_mode": {
    "name": "ipython",
    "version": 3
   },
   "file_extension": ".py",
   "mimetype": "text/x-python",
   "name": "python",
   "nbconvert_exporter": "python",
   "pygments_lexer": "ipython3",
   "version": "3.10.7"
  }
 },
 "nbformat": 4,
 "nbformat_minor": 5
}
